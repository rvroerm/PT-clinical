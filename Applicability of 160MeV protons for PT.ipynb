{
 "cells": [
  {
   "cell_type": "markdown",
   "metadata": {},
   "source": [
    "# Applicability of 160MeV gantry systems for proton therapy"
   ]
  },
  {
   "cell_type": "markdown",
   "metadata": {},
   "source": [
    "A proton energy of 160MV corresponds to a depth in the patient of 18 cm. The purpose of this study is to evaluate the potential of a 160MeV system on a clinical point-of-view."
   ]
  },
  {
   "cell_type": "code",
   "execution_count": 124,
   "metadata": {
    "tags": [
     "hide_input"
    ]
   },
   "outputs": [],
   "source": [
    "import pandas as pd\n",
    "import numpy as np\n",
    "import matplotlib.pyplot as plt"
   ]
  },
  {
   "cell_type": "markdown",
   "metadata": {},
   "source": [
    "We downloaded cancer incidence rates in the US from https://seer.cancer.gov/popdata/download.html. According to the cancer categories in this list, we assign an applicability value for proton therapy based on published results. By no way, this doesn't mean that all cancers of a category will be treated with proton therapy. However, we are interested in the fraction among these cases that is applicable for a reduced range proton therapy. \n",
    "\n",
    "In order to determine this, we estimate the depth in an organ in the body, and assign a second category variable telling us if the cancer could be treated with a range of 18cm. The variable takes 3 values: YES (18 cm is enough), MAYBE (no sure about 18cm) and NO (18 cm is not enough, or cancer cannot be treated with PT). We also assign a weight factor to each cancer type to qualitatively characterize the proportion of treatments that use proton therapy. These guesses have been based on https://indico.gsi.de/event/1910/contribution/24/material/slides/0.pdf \n",
    "\n",
    "We group all results in a data frame for further analysis."
   ]
  },
  {
   "cell_type": "code",
   "execution_count": 125,
   "metadata": {
    "tags": [
     "hide_input"
    ]
   },
   "outputs": [
    {
     "data": {
      "text/html": [
       "<div>\n",
       "<style scoped>\n",
       "    .dataframe tbody tr th:only-of-type {\n",
       "        vertical-align: middle;\n",
       "    }\n",
       "\n",
       "    .dataframe tbody tr th {\n",
       "        vertical-align: top;\n",
       "    }\n",
       "\n",
       "    .dataframe thead th {\n",
       "        text-align: right;\n",
       "    }\n",
       "</style>\n",
       "<table border=\"1\" class=\"dataframe\">\n",
       "  <thead>\n",
       "    <tr style=\"text-align: right;\">\n",
       "      <th></th>\n",
       "      <th>Female new cases</th>\n",
       "      <th>Male new cases</th>\n",
       "      <th>Female deaths</th>\n",
       "      <th>Male deaths</th>\n",
       "      <th>PT applicable?</th>\n",
       "      <th>R=18cm PT applicable?</th>\n",
       "      <th>Weight within PT [0-5]</th>\n",
       "    </tr>\n",
       "    <tr>\n",
       "      <th>Cancer Type</th>\n",
       "      <th></th>\n",
       "      <th></th>\n",
       "      <th></th>\n",
       "      <th></th>\n",
       "      <th></th>\n",
       "      <th></th>\n",
       "      <th></th>\n",
       "    </tr>\n",
       "  </thead>\n",
       "  <tbody>\n",
       "    <tr>\n",
       "      <th>Acute lymphocytic leukemia</th>\n",
       "      <td>2650.0</td>\n",
       "      <td>3280.0</td>\n",
       "      <td>650.0</td>\n",
       "      <td>850.0</td>\n",
       "      <td>NO</td>\n",
       "      <td>NO</td>\n",
       "      <td>0.0</td>\n",
       "    </tr>\n",
       "    <tr>\n",
       "      <th>Acute myeloid leukemia</th>\n",
       "      <td>9800.0</td>\n",
       "      <td>11650.0</td>\n",
       "      <td>4630.0</td>\n",
       "      <td>6290.0</td>\n",
       "      <td>NO</td>\n",
       "      <td>NO</td>\n",
       "      <td>0.0</td>\n",
       "    </tr>\n",
       "    <tr>\n",
       "      <th>Anus, anal canal and anorectum</th>\n",
       "      <td>5530.0</td>\n",
       "      <td>2770.0</td>\n",
       "      <td>760.0</td>\n",
       "      <td>520.0</td>\n",
       "      <td>MAYBE</td>\n",
       "      <td>MAYBE</td>\n",
       "      <td>1.0</td>\n",
       "    </tr>\n",
       "    <tr>\n",
       "      <th>Bones and joints</th>\n",
       "      <td>1470.0</td>\n",
       "      <td>2030.0</td>\n",
       "      <td>700.0</td>\n",
       "      <td>960.0</td>\n",
       "      <td>YES</td>\n",
       "      <td>MAYBE</td>\n",
       "      <td>1.0</td>\n",
       "    </tr>\n",
       "    <tr>\n",
       "      <th>Brain and other nervous system</th>\n",
       "      <td>10410.0</td>\n",
       "      <td>13410.0</td>\n",
       "      <td>7850.0</td>\n",
       "      <td>9910.0</td>\n",
       "      <td>YES</td>\n",
       "      <td>YES</td>\n",
       "      <td>4.0</td>\n",
       "    </tr>\n",
       "  </tbody>\n",
       "</table>\n",
       "</div>"
      ],
      "text/plain": [
       "                                Female new cases  Male new cases  \\\n",
       "Cancer Type                                                        \n",
       "Acute lymphocytic leukemia                2650.0          3280.0   \n",
       "Acute myeloid leukemia                    9800.0         11650.0   \n",
       "Anus, anal canal and anorectum            5530.0          2770.0   \n",
       "Bones and joints                          1470.0          2030.0   \n",
       "Brain and other nervous system           10410.0         13410.0   \n",
       "\n",
       "                                Female deaths  Male deaths PT applicable?  \\\n",
       "Cancer Type                                                                 \n",
       "Acute lymphocytic leukemia              650.0        850.0             NO   \n",
       "Acute myeloid leukemia                 4630.0       6290.0             NO   \n",
       "Anus, anal canal and anorectum          760.0        520.0          MAYBE   \n",
       "Bones and joints                        700.0        960.0            YES   \n",
       "Brain and other nervous system         7850.0       9910.0            YES   \n",
       "\n",
       "                               R=18cm PT applicable?  Weight within PT [0-5]  \n",
       "Cancer Type                                                                   \n",
       "Acute lymphocytic leukemia                        NO                     0.0  \n",
       "Acute myeloid leukemia                            NO                     0.0  \n",
       "Anus, anal canal and anorectum                 MAYBE                     1.0  \n",
       "Bones and joints                               MAYBE                     1.0  \n",
       "Brain and other nervous system                   YES                     4.0  "
      ]
     },
     "execution_count": 125,
     "metadata": {},
     "output_type": "execute_result"
    }
   ],
   "source": [
    "# import data per sex for all US \n",
    "# downlodaded from https://seer.cancer.gov/popdata/download.html \n",
    "df_newcases = pd.read_excel (r'D:\\clinical\\databases\\NewCaseEstimates_US.xlsx',sheet_name='All US',skiprows=6) \n",
    "df_deaths = pd.read_excel (r'D:\\clinical\\databases\\DeathEstimates_US.xlsx',sheet_name='All US',skiprows=6) \n",
    "\n",
    "# change structure to prepare the dataframes for the join\n",
    "df_newcases.set_index('Cancer Type',inplace=True)\n",
    "df_newcases.drop(['Both sexes combined'],axis=1,inplace=True) # let's recalculate the sum ourselves\n",
    "df_newcases.rename(columns={'Male': 'Male new cases','Female': 'Female new cases'}, inplace=True)\n",
    "\n",
    "df_deaths.set_index('Cancer Type',inplace=True)\n",
    "df_deaths.drop(['Both sexes combined'],axis=1,inplace=True) # let's recalculate the sum ourselves\n",
    "df_deaths.rename(columns={'Male': 'Male deaths','Female': 'Female deaths'}, inplace=True)\n",
    "\n",
    "# join the 2 dataframes\n",
    "df_all = df_newcases.join(df_deaths)\n",
    "\n",
    "# cleaning data\n",
    "df_all.fillna(0,inplace=True)\n",
    "\n",
    "\n",
    "#########################################\n",
    "# import table about applicability for PT\n",
    "\n",
    "df_PT_applicability = pd.read_excel (r'D:\\clinical\\databases\\PT_applicability_vs_cancer_type.xlsx',skiprows=2)\n",
    "df_PT_applicability.set_index('Cancer type',inplace=True)\n",
    "\n",
    "\n",
    "# join with the df from the cancer statistics\n",
    "df_all = df_all.join(df_PT_applicability)\n",
    "\n",
    "# remove row with all cancer types combined\n",
    "df_all.drop('All cancer types combined',axis=0,inplace=True)\n",
    "\n",
    "df_all.head()"
   ]
  },
  {
   "cell_type": "code",
   "execution_count": 126,
   "metadata": {
    "tags": [
     "hide_input"
    ]
   },
   "outputs": [],
   "source": [
    "# delete unclear types containing \"Other\" (statistically irrelevant and unclear definition)\n",
    "cancer_types = df_all.index.to_list()\n",
    "indexes_to_delete = []\n",
    "\n",
    "for cancer in cancer_types:\n",
    "    if cancer.find('Other') != -1:\n",
    "        indexes_to_delete = indexes_to_delete + [cancer]\n",
    "        \n",
    "df_all.drop(indexes_to_delete, axis=0, inplace=True)    "
   ]
  },
  {
   "cell_type": "markdown",
   "metadata": {},
   "source": [
    "Let us group male and female groups and compute the death rate for each cancer.\n",
    "\n",
    "We sort the cancers by incidence rate."
   ]
  },
  {
   "cell_type": "code",
   "execution_count": 127,
   "metadata": {
    "tags": [
     "hide_input"
    ]
   },
   "outputs": [
    {
     "data": {
      "text/html": [
       "<div>\n",
       "<style scoped>\n",
       "    .dataframe tbody tr th:only-of-type {\n",
       "        vertical-align: middle;\n",
       "    }\n",
       "\n",
       "    .dataframe tbody tr th {\n",
       "        vertical-align: top;\n",
       "    }\n",
       "\n",
       "    .dataframe thead th {\n",
       "        text-align: right;\n",
       "    }\n",
       "</style>\n",
       "<table border=\"1\" class=\"dataframe\">\n",
       "  <thead>\n",
       "    <tr style=\"text-align: right;\">\n",
       "      <th></th>\n",
       "      <th>PT applicable?</th>\n",
       "      <th>R=18cm PT applicable?</th>\n",
       "      <th>Weight within PT [0-5]</th>\n",
       "      <th>total deaths</th>\n",
       "      <th>total new cases</th>\n",
       "      <th>death rate [%]</th>\n",
       "    </tr>\n",
       "    <tr>\n",
       "      <th>Cancer Type</th>\n",
       "      <th></th>\n",
       "      <th></th>\n",
       "      <th></th>\n",
       "      <th></th>\n",
       "      <th></th>\n",
       "      <th></th>\n",
       "    </tr>\n",
       "  </thead>\n",
       "  <tbody>\n",
       "    <tr>\n",
       "      <th>Digestive system</th>\n",
       "      <td>YES</td>\n",
       "      <td>MAYBE</td>\n",
       "      <td>2.0</td>\n",
       "      <td>165460.0</td>\n",
       "      <td>328030.0</td>\n",
       "      <td>50.440508</td>\n",
       "    </tr>\n",
       "    <tr>\n",
       "      <th>Genital system</th>\n",
       "      <td>MAYBE</td>\n",
       "      <td>MAYBE</td>\n",
       "      <td>1.0</td>\n",
       "      <td>65540.0</td>\n",
       "      <td>295290.0</td>\n",
       "      <td>22.195130</td>\n",
       "    </tr>\n",
       "    <tr>\n",
       "      <th>Breast</th>\n",
       "      <td>YES</td>\n",
       "      <td>YES</td>\n",
       "      <td>2.0</td>\n",
       "      <td>42260.0</td>\n",
       "      <td>271270.0</td>\n",
       "      <td>15.578575</td>\n",
       "    </tr>\n",
       "    <tr>\n",
       "      <th>Respiratory system</th>\n",
       "      <td>YES</td>\n",
       "      <td>YES</td>\n",
       "      <td>4.0</td>\n",
       "      <td>147510.0</td>\n",
       "      <td>246440.0</td>\n",
       "      <td>59.856354</td>\n",
       "    </tr>\n",
       "    <tr>\n",
       "      <th>Lung and bronchus</th>\n",
       "      <td>YES</td>\n",
       "      <td>YES</td>\n",
       "      <td>5.0</td>\n",
       "      <td>142670.0</td>\n",
       "      <td>228150.0</td>\n",
       "      <td>62.533421</td>\n",
       "    </tr>\n",
       "  </tbody>\n",
       "</table>\n",
       "</div>"
      ],
      "text/plain": [
       "                   PT applicable? R=18cm PT applicable?  \\\n",
       "Cancer Type                                               \n",
       "Digestive system              YES                 MAYBE   \n",
       "Genital system              MAYBE                 MAYBE   \n",
       "Breast                        YES                   YES   \n",
       "Respiratory system            YES                   YES   \n",
       "Lung and bronchus             YES                   YES   \n",
       "\n",
       "                    Weight within PT [0-5]  total deaths  total new cases  \\\n",
       "Cancer Type                                                                 \n",
       "Digestive system                       2.0      165460.0         328030.0   \n",
       "Genital system                         1.0       65540.0         295290.0   \n",
       "Breast                                 2.0       42260.0         271270.0   \n",
       "Respiratory system                     4.0      147510.0         246440.0   \n",
       "Lung and bronchus                      5.0      142670.0         228150.0   \n",
       "\n",
       "                    death rate [%]  \n",
       "Cancer Type                         \n",
       "Digestive system         50.440508  \n",
       "Genital system           22.195130  \n",
       "Breast                   15.578575  \n",
       "Respiratory system       59.856354  \n",
       "Lung and bronchus        62.533421  "
      ]
     },
     "execution_count": 127,
     "metadata": {},
     "output_type": "execute_result"
    }
   ],
   "source": [
    "# Calculate new columns to evaluate the potential of proton therapy at R=18cm\n",
    "\n",
    "df_all['total deaths'] = df_all['Male deaths'] + df_all['Female deaths']\n",
    "df_all['total new cases'] = df_all['Male new cases'] + df_all['Female new cases']\n",
    "\n",
    "df_all['death rate [%]'] = df_all['total deaths']/df_all['total new cases']*100\n",
    "\n",
    "df_all.sort_values(by=['total new cases'], ascending=False, inplace=True)\n",
    "\n",
    "# drop initial columns\n",
    "df_all.drop(['Male deaths', 'Female deaths', 'Male new cases', 'Female new cases'], axis=1, inplace=True)  \n",
    "\n",
    "# show new dataframe\n",
    "df_all.head()"
   ]
  },
  {
   "cell_type": "code",
   "execution_count": 128,
   "metadata": {
    "tags": [
     "hide_input"
    ]
   },
   "outputs": [
    {
     "data": {
      "text/plain": [
       "<Figure size 432x432 with 0 Axes>"
      ]
     },
     "metadata": {},
     "output_type": "display_data"
    },
    {
     "data": {
      "image/png": "[encoded data removed]",
      "text/plain": [
       "<Figure size 432x288 with 1 Axes>"
      ]
     },
     "metadata": {
      "needs_background": "light"
     },
     "output_type": "display_data"
    },
    {
     "data": {
      "text/plain": [
       "<Figure size 432x432 with 0 Axes>"
      ]
     },
     "metadata": {},
     "output_type": "display_data"
    },
    {
     "data": {
      "image/png": "[encoded data removed]",
      "text/plain": [
       "<Figure size 432x288 with 1 Axes>"
      ]
     },
     "metadata": {
      "needs_background": "light"
     },
     "output_type": "display_data"
    }
   ],
   "source": [
    "# Plot cancer stats\n",
    "plt.figure('cancer stats', figsize=(6, 6));\n",
    "df_all.head(6).plot.barh(y=['total new cases','total deaths']);\n",
    "plt.title('Top 6 indications for cancer rates in the US');\n",
    "plt.xlabel('nb per year (2018)');\n",
    "plt.ylabel('');\n",
    "plt.show();\n",
    "\n",
    "# Plot stats for PT\n",
    "plt.figure('cancer stats PT', figsize=(6, 6));\n",
    "df_all[df_all['PT applicable?'] == 'YES'].head(6).plot.barh(y=['total new cases','total deaths']);\n",
    "plt.title('Top 6 indications for PT cases in the US');\n",
    "plt.xlabel('nb per year (2018)');\n",
    "plt.ylabel('');\n",
    "plt.show();"
   ]
  },
  {
   "cell_type": "markdown",
   "metadata": {},
   "source": [
    "In order to determine the fraction of indications that could be treated with 160MeV, we calculate the total number of cases corresponding to potential proton therapy treatments. Out of these, we calculate those that require for certain ranges lower than 18cm and those that might be applicable below 18cm without certainty.\n",
    "\n",
    "We see that depending on the case, <b><i> between 65% and 85% of the tumors treated in proton therapy require ranges below 18cm </b></i>."
   ]
  },
  {
   "cell_type": "code",
   "execution_count": 129,
   "metadata": {
    "tags": [
     "hide_input"
    ]
   },
   "outputs": [
    {
     "name": "stdout",
     "output_type": "stream",
     "text": [
      "PT at 160MeV is applicable in min 68.83% the overall PT cases\n",
      "PT at 160MeV is applicable in max 83.70% the overall PT cases\n"
     ]
    }
   ],
   "source": [
    "# Calculate applicability\n",
    "\n",
    "# calculate fraction of cases that are applicable for R=18cm among all PT cases\n",
    "df_all['new cases weighted'] = df_all['total new cases']*df_all['Weight within PT [0-5]']\n",
    "\n",
    "\n",
    "PT_applicable_sum = df_all[df_all['PT applicable?']=='YES']['new cases weighted'].sum()\n",
    "PT_R18_applicable_sum_min = df_all[(df_all['R=18cm PT applicable?']=='YES') & (df_all['PT applicable?']=='YES')]['new cases weighted'].sum()\n",
    "print('PT at 160MeV is applicable in min {:.2%} the overall PT cases'.format(PT_R18_applicable_sum_min/PT_applicable_sum))\n",
    "\n",
    "# calculate fraction of cases that might be applicable for R=18cm among all PT cases\n",
    "PT_R18_applicable_sum_max = df_all[((df_all['R=18cm PT applicable?']=='YES') | (df_all['R=18cm PT applicable?']=='MAYBE') & (df_all['PT applicable?']=='YES'))]['new cases weighted'].sum()\n",
    "print('PT at 160MeV is applicable in max {:.2%} the overall PT cases'.format(PT_R18_applicable_sum_max/PT_applicable_sum))\n"
   ]
  },
  {
   "cell_type": "markdown",
   "metadata": {},
   "source": [
    "If we display the cancer types as a function of mortality rate and occurrence rate, we can see that the most critical indications (i.e. high incidence and/or high mortality) can benefit from a 160MeV system. The graph can be slightly misleading as the actual picture is much more complex and a sizable share of cancers that appear applicable for PT are actually treated by other methods (surgery, conventional radiation therapy, etc.).\n",
    "\n",
    "To clarify the view, we also display the share of each indication within the proton therapy market. It can be seen that the most common indications are still applicable with a 160MeV system. One notable exception is prostate cancer, which is treated with 2 side fields at high range to spare the rectum and the bladder. The relative importance of proton therapy for prostate is however decreasing after its superiority to conventional radiation therapy has been debated by doctors and insurers (prostate cancer has a low fatality rate and might not justify the extra cost of protons). Other, more vicious, forms of cancer (lung, brain, liver, etc.) very rarely need protons above 160MeV."
   ]
  },
  {
   "cell_type": "code",
   "execution_count": 130,
   "metadata": {
    "tags": [
     "hide_input"
    ]
   },
   "outputs": [
    {
     "data": {
      "image/png": "[encoded data removed]",
      "text/plain": [
       "<Figure size 648x432 with 1 Axes>"
      ]
     },
     "metadata": {
      "needs_background": "light"
     },
     "output_type": "display_data"
    },
    {
     "data": {
      "image/png": "[encoded data removed]",
      "text/plain": [
       "<Figure size 648x432 with 1 Axes>"
      ]
     },
     "metadata": {
      "needs_background": "light"
     },
     "output_type": "display_data"
    }
   ],
   "source": [
    "fig = plt.figure(figsize = (9,6))\n",
    "\n",
    "ax = sns.scatterplot(x='total new cases', y ='death rate [%]', data = df_all[df_all['PT applicable?'] == 'YES'] , \n",
    "                     color='limegreen', s = 100)\n",
    "\n",
    "#ax.legend(loc='upper right', labels=['PT applic'])\n",
    "\n",
    "ax = sns.scatterplot(x='total new cases', y ='death rate [%]', data = df_all[df_all['PT applicable?'] == 'MAYBE'] , \n",
    "                     color='orange', s = 100)\n",
    "\n",
    "\n",
    "ax = sns.scatterplot(x='total new cases', y ='death rate [%]', data = df_all[df_all['PT applicable?'] == 'NO'] ,  \n",
    "                     color='red', s = 100)\n",
    "\n",
    "# overwrite the subcase for R=18cm\n",
    "ax = sns.scatterplot(x='total new cases', y ='death rate [%]', data = df_all[df_all['R=18cm PT applicable?'] == 'YES'] , \n",
    "                     color='green', s = 100)\n",
    "\n",
    "plt.title('PT applicability versus cancer incidence and mortality')\n",
    "ax.legend(loc='upper right', labels=['PT applicable','PT candidate','PT not applicable','PT 160MeV applicable']);\n",
    "\n",
    "ax.set_xlim(0,350000)\n",
    "ax.set_ylim(0,100)\n",
    "\n",
    "# identify main indications\n",
    "x_breast = df_all.loc['Breast', 'total new cases']\n",
    "y_breast = df_all.loc['Breast', 'death rate [%]']\n",
    "ax.text(x_breast, y_breast - 5, 'Breast', horizontalalignment='center')\n",
    "\n",
    "x_breast = df_all.loc['Digestive system', 'total new cases']\n",
    "y_breast = df_all.loc['Digestive system', 'death rate [%]']\n",
    "ax.text(x_breast, y_breast - 5, 'Digestive', horizontalalignment='center')\n",
    "\n",
    "x_breast = df_all.loc['Genital system', 'total new cases']\n",
    "y_breast = df_all.loc['Genital system', 'death rate [%]']\n",
    "ax.text(x_breast, y_breast - 5, 'Genital', horizontalalignment='center')\n",
    "\n",
    "x_breast = df_all.loc['Respiratory system', 'total new cases']\n",
    "y_breast = df_all.loc['Respiratory system', 'death rate [%]']\n",
    "ax.text(x_breast, y_breast - 5, 'Respiratory', horizontalalignment='center')\n",
    "\n",
    "x_breast = df_all.loc['Lung and bronchus', 'total new cases']\n",
    "y_breast = df_all.loc['Lung and bronchus', 'death rate [%]']\n",
    "ax.text(x_breast, y_breast + 3, 'Lung', horizontalalignment='center');\n",
    "\n",
    "x_breast = df_all.loc['Esophagus', 'total new cases']\n",
    "y_breast = df_all.loc['Esophagus', 'death rate [%]']\n",
    "ax.text(x_breast, y_breast + 3, 'Esophagus', horizontalalignment='center');\n",
    "\n",
    "x_breast = df_all.loc['Prostate', 'total new cases']\n",
    "y_breast = df_all.loc['Prostate', 'death rate [%]']\n",
    "ax.text(x_breast, y_breast -5, 'Prostate', horizontalalignment='center');\n",
    "\n",
    "\n",
    "\n",
    "############################################################\n",
    "# display relative importance to PT market\n",
    "\n",
    "\n",
    "fig = plt.figure(figsize = (9,6))\n",
    "\n",
    "ax = sns.scatterplot(x='total new cases', y ='death rate [%]', data = df_all , \n",
    "                     size = 'Weight within PT [0-5]', sizes=[0,20,50,100,150,200])\n",
    "\n",
    "\n",
    "plt.title('Relative importance within PT market (situation in 2020)')\n",
    "ax.set_xlim(0,350000)\n",
    "ax.set_ylim(0,100)\n",
    "\n",
    "# identify main indications\n",
    "x_breast = df_all.loc['Brain and other nervous system', 'total new cases']\n",
    "y_breast = df_all.loc['Brain and other nervous system', 'death rate [%]']\n",
    "ax.text(x_breast, y_breast - 5, 'Brain', horizontalalignment='center')\n",
    "\n",
    "x_breast = df_all.loc['Liver and intrahepatic bile duct', 'total new cases']\n",
    "y_breast = df_all.loc['Liver and intrahepatic bile duct', 'death rate [%]']\n",
    "ax.text(x_breast, y_breast - 5, 'Liver', horizontalalignment='center')\n",
    "\n",
    "x_breast = df_all.loc['Eye and orbit', 'total new cases']\n",
    "y_breast = df_all.loc['Eye and orbit', 'death rate [%]']\n",
    "ax.text(x_breast, y_breast - 5, 'Eye', horizontalalignment='center')\n",
    "\n",
    "x_breast = df_all.loc['Respiratory system', 'total new cases']\n",
    "y_breast = df_all.loc['Respiratory system', 'death rate [%]']\n",
    "ax.text(x_breast, y_breast - 5, 'Respiratory', horizontalalignment='center')\n",
    "\n",
    "x_breast = df_all.loc['Lung and bronchus', 'total new cases']\n",
    "y_breast = df_all.loc['Lung and bronchus', 'death rate [%]']\n",
    "ax.text(x_breast, y_breast + 3, 'Lung', horizontalalignment='center');\n",
    "\n",
    "x_breast = df_all.loc['Esophagus', 'total new cases']\n",
    "y_breast = df_all.loc['Esophagus', 'death rate [%]']\n",
    "ax.text(x_breast, y_breast + 3, 'Esophagus', horizontalalignment='center');\n",
    "\n",
    "x_breast = df_all.loc['Prostate', 'total new cases']\n",
    "y_breast = df_all.loc['Prostate', 'death rate [%]']\n",
    "ax.text(x_breast, y_breast -5, 'Prostate', horizontalalignment='center');\n"
   ]
  },
  {
   "cell_type": "markdown",
   "metadata": {},
   "source": [
    "# Conclusion"
   ]
  },
  {
   "cell_type": "markdown",
   "metadata": {},
   "source": [
    "From this simple analysis, it seems that a limited-energy system could make sense to complement existing multi-room centers, as more than two thirds of the indications (and up to 80%) could be moved to the 160MeV room. It could therefore efficienty extend the customer base of centers that are currently running at full capacity, the those in UFPTI, UPENN or MD Anderson."
   ]
  }
 ],
 "metadata": {
  "celltoolbar": "Tags",
  "kernelspec": {
   "display_name": "Python 3",
   "language": "python",
   "name": "python3"
  },
  "language_info": {
   "codemirror_mode": {
    "name": "ipython",
    "version": 3
   },
   "file_extension": ".py",
   "mimetype": "text/x-python",
   "name": "python",
   "nbconvert_exporter": "python",
   "pygments_lexer": "ipython3",
   "version": "3.7.3"
  }
 },
 "nbformat": 4,
 "nbformat_minor": 2
}
