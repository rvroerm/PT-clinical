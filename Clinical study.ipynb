{
 "cells": [
  {
   "cell_type": "markdown",
   "metadata": {},
   "source": [
    "# Applicability of 160MeV gantry systems for proton therapy"
   ]
  },
  {
   "cell_type": "markdown",
   "metadata": {},
   "source": [
    "160MV corresponds to a depth of 18 cm"
   ]
  },
  {
   "cell_type": "code",
   "execution_count": 153,
   "metadata": {},
   "outputs": [],
   "source": [
    "import pandas as pd\n",
    "import numpy as np\n",
    "import matplotlib.pyplot as plt"
   ]
  },
  {
   "cell_type": "markdown",
   "metadata": {},
   "source": [
    "Let us import data to evaluate the potential of a 160MeV system.\n",
    "\n",
    "We downloaded cancer incidence rates in the US from https://seer.cancer.gov/popdata/download.html. According to the cancer categories in this list, we assign an applicability value for proton therapy based on published results. By no way, this doesn't mean that all cancers of a category will be treated with proton therapy. However, we are interested in the fraction among these cases that is applicable for a reduced range proton therapy. \n",
    "\n",
    "In order to determine this, we estimate the depth in an organ in the body, and assign a second category variable telling us if the cancer could be treated with a range of 18cm. The variable takes 3 values: YES (18 cm is enough), MAYBE (no sure about 18cm) and NO (18 cm is not enough, or cancer cannot be treated with PT).\n",
    "\n",
    "We group all results in a data frame for further analysis."
   ]
  },
  {
   "cell_type": "code",
   "execution_count": 154,
   "metadata": {},
   "outputs": [
    {
     "data": {
      "text/html": [
       "<div>\n",
       "<style scoped>\n",
       "    .dataframe tbody tr th:only-of-type {\n",
       "        vertical-align: middle;\n",
       "    }\n",
       "\n",
       "    .dataframe tbody tr th {\n",
       "        vertical-align: top;\n",
       "    }\n",
       "\n",
       "    .dataframe thead th {\n",
       "        text-align: right;\n",
       "    }\n",
       "</style>\n",
       "<table border=\"1\" class=\"dataframe\">\n",
       "  <thead>\n",
       "    <tr style=\"text-align: right;\">\n",
       "      <th></th>\n",
       "      <th>Female new cases</th>\n",
       "      <th>Male new cases</th>\n",
       "      <th>Female deaths</th>\n",
       "      <th>Male deaths</th>\n",
       "      <th>PT applicable?</th>\n",
       "      <th>R=18cm PT applicable?</th>\n",
       "    </tr>\n",
       "    <tr>\n",
       "      <th>Cancer Type</th>\n",
       "      <th></th>\n",
       "      <th></th>\n",
       "      <th></th>\n",
       "      <th></th>\n",
       "      <th></th>\n",
       "      <th></th>\n",
       "    </tr>\n",
       "  </thead>\n",
       "  <tbody>\n",
       "    <tr>\n",
       "      <td>Acute lymphocytic leukemia</td>\n",
       "      <td>2650.0</td>\n",
       "      <td>3280.0</td>\n",
       "      <td>650.0</td>\n",
       "      <td>850.0</td>\n",
       "      <td>NO</td>\n",
       "      <td>NO</td>\n",
       "    </tr>\n",
       "    <tr>\n",
       "      <td>Acute myeloid leukemia</td>\n",
       "      <td>9800.0</td>\n",
       "      <td>11650.0</td>\n",
       "      <td>4630.0</td>\n",
       "      <td>6290.0</td>\n",
       "      <td>NO</td>\n",
       "      <td>NO</td>\n",
       "    </tr>\n",
       "    <tr>\n",
       "      <td>Anus, anal canal and anorectum</td>\n",
       "      <td>5530.0</td>\n",
       "      <td>2770.0</td>\n",
       "      <td>760.0</td>\n",
       "      <td>520.0</td>\n",
       "      <td>MAYBE</td>\n",
       "      <td>MAYBE</td>\n",
       "    </tr>\n",
       "    <tr>\n",
       "      <td>Bones and joints</td>\n",
       "      <td>1470.0</td>\n",
       "      <td>2030.0</td>\n",
       "      <td>700.0</td>\n",
       "      <td>960.0</td>\n",
       "      <td>YES</td>\n",
       "      <td>YES</td>\n",
       "    </tr>\n",
       "    <tr>\n",
       "      <td>Brain and other nervous system</td>\n",
       "      <td>10410.0</td>\n",
       "      <td>13410.0</td>\n",
       "      <td>7850.0</td>\n",
       "      <td>9910.0</td>\n",
       "      <td>YES</td>\n",
       "      <td>YES</td>\n",
       "    </tr>\n",
       "  </tbody>\n",
       "</table>\n",
       "</div>"
      ],
      "text/plain": [
       "                                Female new cases  Male new cases  \\\n",
       "Cancer Type                                                        \n",
       "Acute lymphocytic leukemia                2650.0          3280.0   \n",
       "Acute myeloid leukemia                    9800.0         11650.0   \n",
       "Anus, anal canal and anorectum            5530.0          2770.0   \n",
       "Bones and joints                          1470.0          2030.0   \n",
       "Brain and other nervous system           10410.0         13410.0   \n",
       "\n",
       "                                Female deaths  Male deaths PT applicable?  \\\n",
       "Cancer Type                                                                 \n",
       "Acute lymphocytic leukemia              650.0        850.0             NO   \n",
       "Acute myeloid leukemia                 4630.0       6290.0             NO   \n",
       "Anus, anal canal and anorectum          760.0        520.0          MAYBE   \n",
       "Bones and joints                        700.0        960.0            YES   \n",
       "Brain and other nervous system         7850.0       9910.0            YES   \n",
       "\n",
       "                               R=18cm PT applicable?  \n",
       "Cancer Type                                           \n",
       "Acute lymphocytic leukemia                        NO  \n",
       "Acute myeloid leukemia                            NO  \n",
       "Anus, anal canal and anorectum                 MAYBE  \n",
       "Bones and joints                                 YES  \n",
       "Brain and other nervous system                   YES  "
      ]
     },
     "execution_count": 154,
     "metadata": {},
     "output_type": "execute_result"
    }
   ],
   "source": [
    "# import data per sex for all US \n",
    "# downlodaded from https://seer.cancer.gov/popdata/download.html \n",
    "df_newcases = pd.read_excel (r'D:\\clinical\\databases\\NewCaseEstimates_US.xlsx',sheet_name='All US',skiprows=6) \n",
    "df_deaths = pd.read_excel (r'D:\\clinical\\databases\\DeathEstimates_US.xlsx',sheet_name='All US',skiprows=6) \n",
    "\n",
    "# change structure to prepare the dataframes for the join\n",
    "df_newcases.set_index('Cancer Type',inplace=True)\n",
    "df_newcases.drop(['Both sexes combined'],axis=1,inplace=True) # let's recalculate the sum ourselves\n",
    "df_newcases.rename(columns={'Male': 'Male new cases','Female': 'Female new cases'}, inplace=True)\n",
    "\n",
    "df_deaths.set_index('Cancer Type',inplace=True)\n",
    "df_deaths.drop(['Both sexes combined'],axis=1,inplace=True) # let's recalculate the sum ourselves\n",
    "df_deaths.rename(columns={'Male': 'Male deaths','Female': 'Female deaths'}, inplace=True)\n",
    "\n",
    "# join the 2 dataframes\n",
    "df_all = df_newcases.join(df_deaths)\n",
    "\n",
    "# cleaning data\n",
    "df_all.fillna(0,inplace=True)\n",
    "\n",
    "\n",
    "#########################################\n",
    "# import table about applicability for PT\n",
    "\n",
    "df_PT_applicability = pd.read_excel (r'D:\\clinical\\databases\\PT_applicability_vs_cancer_type.xlsx',skiprows=2)\n",
    "df_PT_applicability.set_index('Cancer type',inplace=True)\n",
    "\n",
    "\n",
    "# join with the df from the cancer statistics\n",
    "df_all = df_all.join(df_PT_applicability)\n",
    "\n",
    "# remove row with all cancer types combined\n",
    "df_all.drop('All cancer types combined',axis=0,inplace=True)\n",
    "\n",
    "df_all.head()"
   ]
  },
  {
   "cell_type": "markdown",
   "metadata": {},
   "source": [
    "Let us group male and female groups and compute the death rate for each cancer.\n",
    "\n",
    "We sort the cancers by incidence rate."
   ]
  },
  {
   "cell_type": "code",
   "execution_count": 175,
   "metadata": {},
   "outputs": [
    {
     "data": {
      "text/html": [
       "<div>\n",
       "<style scoped>\n",
       "    .dataframe tbody tr th:only-of-type {\n",
       "        vertical-align: middle;\n",
       "    }\n",
       "\n",
       "    .dataframe tbody tr th {\n",
       "        vertical-align: top;\n",
       "    }\n",
       "\n",
       "    .dataframe thead th {\n",
       "        text-align: right;\n",
       "    }\n",
       "</style>\n",
       "<table border=\"1\" class=\"dataframe\">\n",
       "  <thead>\n",
       "    <tr style=\"text-align: right;\">\n",
       "      <th></th>\n",
       "      <th>Female new cases</th>\n",
       "      <th>Male new cases</th>\n",
       "      <th>Female deaths</th>\n",
       "      <th>Male deaths</th>\n",
       "      <th>PT applicable?</th>\n",
       "      <th>R=18cm PT applicable?</th>\n",
       "      <th>total deaths</th>\n",
       "      <th>total new cases</th>\n",
       "      <th>death rate [%]</th>\n",
       "    </tr>\n",
       "    <tr>\n",
       "      <th>Cancer Type</th>\n",
       "      <th></th>\n",
       "      <th></th>\n",
       "      <th></th>\n",
       "      <th></th>\n",
       "      <th></th>\n",
       "      <th></th>\n",
       "      <th></th>\n",
       "      <th></th>\n",
       "      <th></th>\n",
       "    </tr>\n",
       "  </thead>\n",
       "  <tbody>\n",
       "    <tr>\n",
       "      <td>Digestive system</td>\n",
       "      <td>141950.0</td>\n",
       "      <td>186080.0</td>\n",
       "      <td>68350.0</td>\n",
       "      <td>97110.0</td>\n",
       "      <td>YES</td>\n",
       "      <td>MAYBE</td>\n",
       "      <td>165460.0</td>\n",
       "      <td>328030.0</td>\n",
       "      <td>50.440508</td>\n",
       "    </tr>\n",
       "    <tr>\n",
       "      <td>Genital system</td>\n",
       "      <td>109000.0</td>\n",
       "      <td>186290.0</td>\n",
       "      <td>33100.0</td>\n",
       "      <td>32440.0</td>\n",
       "      <td>MAYBE</td>\n",
       "      <td>MAYBE</td>\n",
       "      <td>65540.0</td>\n",
       "      <td>295290.0</td>\n",
       "      <td>22.195130</td>\n",
       "    </tr>\n",
       "    <tr>\n",
       "      <td>Breast</td>\n",
       "      <td>268600.0</td>\n",
       "      <td>2670.0</td>\n",
       "      <td>41760.0</td>\n",
       "      <td>500.0</td>\n",
       "      <td>YES</td>\n",
       "      <td>YES</td>\n",
       "      <td>42260.0</td>\n",
       "      <td>271270.0</td>\n",
       "      <td>15.578575</td>\n",
       "    </tr>\n",
       "    <tr>\n",
       "      <td>Respiratory system</td>\n",
       "      <td>116070.0</td>\n",
       "      <td>130370.0</td>\n",
       "      <td>67130.0</td>\n",
       "      <td>80380.0</td>\n",
       "      <td>YES</td>\n",
       "      <td>YES</td>\n",
       "      <td>147510.0</td>\n",
       "      <td>246440.0</td>\n",
       "      <td>59.856354</td>\n",
       "    </tr>\n",
       "    <tr>\n",
       "      <td>Lung and bronchus</td>\n",
       "      <td>111710.0</td>\n",
       "      <td>116440.0</td>\n",
       "      <td>66020.0</td>\n",
       "      <td>76650.0</td>\n",
       "      <td>YES</td>\n",
       "      <td>YES</td>\n",
       "      <td>142670.0</td>\n",
       "      <td>228150.0</td>\n",
       "      <td>62.533421</td>\n",
       "    </tr>\n",
       "  </tbody>\n",
       "</table>\n",
       "</div>"
      ],
      "text/plain": [
       "                    Female new cases  Male new cases  Female deaths  \\\n",
       "Cancer Type                                                           \n",
       "Digestive system            141950.0        186080.0        68350.0   \n",
       "Genital system              109000.0        186290.0        33100.0   \n",
       "Breast                      268600.0          2670.0        41760.0   \n",
       "Respiratory system          116070.0        130370.0        67130.0   \n",
       "Lung and bronchus           111710.0        116440.0        66020.0   \n",
       "\n",
       "                    Male deaths PT applicable? R=18cm PT applicable?  \\\n",
       "Cancer Type                                                            \n",
       "Digestive system        97110.0            YES                 MAYBE   \n",
       "Genital system          32440.0          MAYBE                 MAYBE   \n",
       "Breast                    500.0            YES                   YES   \n",
       "Respiratory system      80380.0            YES                   YES   \n",
       "Lung and bronchus       76650.0            YES                   YES   \n",
       "\n",
       "                    total deaths  total new cases  death rate [%]  \n",
       "Cancer Type                                                        \n",
       "Digestive system        165460.0         328030.0       50.440508  \n",
       "Genital system           65540.0         295290.0       22.195130  \n",
       "Breast                   42260.0         271270.0       15.578575  \n",
       "Respiratory system      147510.0         246440.0       59.856354  \n",
       "Lung and bronchus       142670.0         228150.0       62.533421  "
      ]
     },
     "execution_count": 175,
     "metadata": {},
     "output_type": "execute_result"
    },
    {
     "data": {
      "text/plain": [
       "<Figure size 432x288 with 0 Axes>"
      ]
     },
     "metadata": {},
     "output_type": "display_data"
    },
    {
     "data": {
      "image/png": "[encoded data removed]",
      "text/plain": [
       "<Figure size 432x288 with 1 Axes>"
      ]
     },
     "metadata": {
      "needs_background": "light"
     },
     "output_type": "display_data"
    },
    {
     "data": {
      "text/plain": [
       "<Figure size 432x288 with 0 Axes>"
      ]
     },
     "metadata": {},
     "output_type": "display_data"
    },
    {
     "data": {
      "image/png": "[encoded data removed]",
      "text/plain": [
       "<Figure size 432x288 with 1 Axes>"
      ]
     },
     "metadata": {
      "needs_background": "light"
     },
     "output_type": "display_data"
    }
   ],
   "source": [
    "# Calculate new columns to evaluate the potential of proton therapy at R=18cm\n",
    "\n",
    "df_all['total deaths'] = df_all['Male deaths'] + df_all['Female deaths']\n",
    "df_all['total new cases'] = df_all['Male new cases'] + df_all['Female new cases']\n",
    "\n",
    "df_all['death rate [%]'] = df_all['total deaths']/df_all['total new cases']*100\n",
    "\n",
    "df_all.sort_values(by=['total new cases'],ascending=False,inplace=True)\n",
    "\n",
    "# Plot cancer stats\n",
    "plt.figure('cancer stats')\n",
    "df_all.head(6).plot.barh(y=['total new cases','total deaths'])\n",
    "plt.title('Top 6 indications for cancer rates in the US')\n",
    "plt.xlabel('nb per year (2018)')\n",
    "plt.ylabel('')\n",
    "\n",
    "# Plot stats for PT\n",
    "plt.figure('cancer stats PT')\n",
    "df_all[df_all['PT applicable?'] == 'YES'].head(6).plot.barh(y=['total new cases','total deaths'])\n",
    "plt.title('Top 6 indications for PT cases in the US')\n",
    "plt.xlabel('nb per year (2018)')\n",
    "plt.ylabel('')\n",
    "\n",
    "\n",
    "# show new dataframe\n",
    "df_all.head()"
   ]
  },
  {
   "cell_type": "markdown",
   "metadata": {},
   "source": [
    "In order to determine the fraction of indications that could be treated with 160MeV, we calculate the total number of cases corresponding to potential proton therapy treatments. Out of these, we calculate those that require for certain ranges lower than 18cm and those that might be applicable below 18cm without certainty.\n",
    "\n",
    "We see that depending on the case, <b><i> between 50% and 90% of the tumors treated in proton therapy require ranges below 18cm </b></i>."
   ]
  },
  {
   "cell_type": "code",
   "execution_count": 157,
   "metadata": {},
   "outputs": [
    {
     "name": "stdout",
     "output_type": "stream",
     "text": [
      "PT at 160MeV is applicable in min 51.48% the overall PT cases\n",
      "PT at 160MeV is applicable in max 88.90% the overall PT cases\n"
     ]
    }
   ],
   "source": [
    "# Calculate applicability\n",
    "\n",
    "# calculate fraction of cases that are applicable for R=18cm among all PT cases\n",
    "PT_applicable_sum = df_all[df_all['PT applicable?']=='YES']['total new cases'].sum()\n",
    "PT_R18_applicable_sum_min = df_all[(df_all['R=18cm PT applicable?']=='YES') & (df_all['PT applicable?']=='YES')]['total new cases'].sum()\n",
    "print('PT at 160MeV is applicable in min {:.2%} the overall PT cases'.format(PT_R18_applicable_sum_min/PT_applicable_sum))\n",
    "\n",
    "# calculate fraction of cases that might be applicable for R=18cm among all PT cases\n",
    "PT_R18_applicable_sum_max = df_all[((df_all['R=18cm PT applicable?']=='YES') | (df_all['R=18cm PT applicable?']=='MAYBE') & (df_all['PT applicable?']=='YES'))]['total new cases'].sum()\n",
    "print('PT at 160MeV is applicable in max {:.2%} the overall PT cases'.format(PT_R18_applicable_sum_max/PT_applicable_sum))\n"
   ]
  },
  {
   "cell_type": "code",
   "execution_count": 176,
   "metadata": {},
   "outputs": [
    {
     "data": {
      "text/plain": [
       "Text(0, 0.5, '')"
      ]
     },
     "execution_count": 176,
     "metadata": {},
     "output_type": "execute_result"
    },
    {
     "data": {
      "image/png": "[encoded data removed]",
      "text/plain": [
       "<Figure size 432x288 with 1 Axes>"
      ]
     },
     "metadata": {},
     "output_type": "display_data"
    },
    {
     "data": {
      "image/png": "[encoded data removed]",
      "text/plain": [
       "<Figure size 432x288 with 1 Axes>"
      ]
     },
     "metadata": {},
     "output_type": "display_data"
    }
   ],
   "source": [
    "# plots\n",
    "\n",
    "plt.figure('pie chart of all applicable cancers for PT')\n",
    "df_all[df_all['PT applicable?']=='YES']['total new cases'].head(5).plot.pie()\n",
    "plt.title('All PT main applicable cancers')\n",
    "plt.ylabel('')\n",
    "\n",
    "plt.figure('pie chart of all applicable cancers at R18')\n",
    "df_all[df_all['R=18cm PT applicable?']=='YES']['total new cases'].head(5).plot.pie()\n",
    "plt.title('160MeV PT main applicable cancers')\n",
    "plt.ylabel('')"
   ]
  },
  {
   "cell_type": "markdown",
   "metadata": {},
   "source": [
    "# Conclusion"
   ]
  },
  {
   "cell_type": "markdown",
   "metadata": {},
   "source": [
    "From this simple analysis, it seems that a limited-energy system could make sense to complement existing multi-room centers, as more than half of the indications (and up to 90%) could be moved to the 160MeV room. It could therefore efficienty extend the customer base of centers that are currently running at full capacity, the those in UFPTI, UPENN or MD Anderson."
   ]
  }
 ],
 "metadata": {
  "kernelspec": {
   "display_name": "Python 3",
   "language": "python",
   "name": "python3"
  },
  "language_info": {
   "codemirror_mode": {
    "name": "ipython",
    "version": 3
   },
   "file_extension": ".py",
   "mimetype": "text/x-python",
   "name": "python",
   "nbconvert_exporter": "python",
   "pygments_lexer": "ipython3",
   "version": "3.7.3"
  }
 },
 "nbformat": 4,
 "nbformat_minor": 2
}
